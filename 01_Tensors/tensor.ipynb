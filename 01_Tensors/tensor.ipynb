{
 "cells": [
  {
   "cell_type": "markdown",
   "metadata": {},
   "source": [
    "# Tensor\n",
    "\n",
    "A tensor is a fundamental data structure in PyTorch, representing multi-dimensional arrays or matrices. It is similar to NumPy's ndarray object, but with additional functionality that enables efficient computation on GPUs.\n",
    "\n",
    "Tensors can have different ranks or dimensions, ranging from 0 (a scalar) to n (n-dimensional tensor). Tensors can store various data types, such as integers, floats, or even other tensors."
   ]
  },
  {
   "cell_type": "code",
   "execution_count": 3,
   "metadata": {},
   "outputs": [],
   "source": [
    "# Import the PyTorch library\n",
    "import torch"
   ]
  },
  {
   "cell_type": "markdown",
   "metadata": {},
   "source": [
    "# Create Tensors\n",
    "\n",
    "## Scalar Tensor: \n",
    "It is a tensor that stores a single value or a scalar. In this case, the scalar value is 42."
   ]
  },
  {
   "cell_type": "code",
   "execution_count": null,
   "metadata": {},
   "outputs": [],
   "source": [
    "# Create a scalar tensor\n",
    "scalar_tensor = torch.tensor(42)"
   ]
  },
  {
   "cell_type": "markdown",
   "metadata": {},
   "source": [
    "## Vector Tensor: \n",
    "It is a one-dimensional tensor or a vector that stores a sequence of values. The tensor contains the numbers 1, 2, 3, 4, and 5."
   ]
  },
  {
   "cell_type": "code",
   "execution_count": null,
   "metadata": {},
   "outputs": [],
   "source": [
    "\n",
    "# Create a 1D tensor (vector)\n",
    "vector_tensor = torch.tensor([1, 2, 3, 4, 5])"
   ]
  },
  {
   "cell_type": "markdown",
   "metadata": {},
   "source": [
    "## Matrix Tensor: \n",
    "It is a two-dimensional tensor or a matrix that stores a grid of values. The tensor contains two rows and three columns with the values 1, 2, 3, 4, 5, and 6."
   ]
  },
  {
   "cell_type": "code",
   "execution_count": null,
   "metadata": {},
   "outputs": [],
   "source": [
    "# Create a 2D tensor (matrix)\n",
    "matrix_tensor = torch.tensor([[1, 2, 3], [4, 5, 6]])"
   ]
  },
  {
   "cell_type": "markdown",
   "metadata": {},
   "source": [
    "## Three dimensuinal Tensor: \n",
    "It is a three-dimensional tensor that stores a cube or rectangular prism of values. The tensor contains two \"slices\" or layers, each with two rows and two columns. The values range from 1 to 8."
   ]
  },
  {
   "cell_type": "code",
   "execution_count": null,
   "metadata": {},
   "outputs": [],
   "source": [
    "# Create a 3D tensor\n",
    "three_dim_tensor = torch.tensor([[[1, 2], [3, 4]], [[5, 6], [7, 8]]])"
   ]
  },
  {
   "cell_type": "markdown",
   "metadata": {},
   "source": [
    "# How to convert an array to a tensor using PyTorch.\n",
    "\n",
    "array is a 2-dimensional list representing a matrix. The matrix contains two rows with values [1,2,3] and [1,5,6].\n",
    "\n",
    "tensor1 is a tensor created from the array using torch.tensor(array). This function takes the array and converts it into a tensor."
   ]
  },
  {
   "cell_type": "code",
   "execution_count": 4,
   "metadata": {},
   "outputs": [
    {
     "name": "stdout",
     "output_type": "stream",
     "text": [
      "tensor([[1, 2, 3],\n",
      "        [1, 5, 6]])\n"
     ]
    }
   ],
   "source": [
    "# array to tensor\n",
    "array = [[1,2,3], [1,5,6]]\n",
    "tensor1 = torch.tensor(array)\n",
    "\n",
    "print(tensor1)"
   ]
  },
  {
   "cell_type": "markdown",
   "metadata": {},
   "source": [
    "# Tensor attributes\n",
    "\n",
    "## Tensor Shape\n",
    "The attribute tensor1.shape will give you the shape or dimension of the tensor tensor1."
   ]
  },
  {
   "cell_type": "code",
   "execution_count": 5,
   "metadata": {},
   "outputs": [
    {
     "data": {
      "text/plain": [
       "torch.Size([2, 3])"
      ]
     },
     "execution_count": 5,
     "metadata": {},
     "output_type": "execute_result"
    }
   ],
   "source": [
    "tensor1.shape"
   ]
  },
  {
   "cell_type": "markdown",
   "metadata": {},
   "source": [
    "The shape indicates that the tensor tensor1 has 2 rows and 3 columns. The tensor1.shape function returns a torch.\n",
    "Size object that represents the shape of the PyTorch tensor. You can access individual elements of the shape using indexing, for example, tensor1.shape[0] would return the number of rows (2 in this case) "
   ]
  },
  {
   "cell_type": "code",
   "execution_count": 6,
   "metadata": {},
   "outputs": [
    {
     "data": {
      "text/plain": [
       "2"
      ]
     },
     "execution_count": 6,
     "metadata": {},
     "output_type": "execute_result"
    }
   ],
   "source": [
    "tensor1.shape[0]"
   ]
  },
  {
   "cell_type": "markdown",
   "metadata": {},
   "source": [
    "tensor1.shape[1] would return the number of columns (3 in this case)."
   ]
  },
  {
   "cell_type": "code",
   "execution_count": 7,
   "metadata": {},
   "outputs": [
    {
     "data": {
      "text/plain": [
       "3"
      ]
     },
     "execution_count": 7,
     "metadata": {},
     "output_type": "execute_result"
    }
   ],
   "source": [
    "# Print the shape of tensor0\n",
    "tensor1.shape[1]"
   ]
  },
  {
   "cell_type": "markdown",
   "metadata": {},
   "source": [
    "## Tensor Size"
   ]
  },
  {
   "cell_type": "code",
   "execution_count": 8,
   "metadata": {},
   "outputs": [
    {
     "name": "stdout",
     "output_type": "stream",
     "text": [
      "torch.Size([2, 3])\n"
     ]
    }
   ],
   "source": [
    "# Print the size of tensor1\n",
    "print(tensor1.size())"
   ]
  },
  {
   "cell_type": "markdown",
   "metadata": {},
   "source": [
    "## Tensor Dim"
   ]
  },
  {
   "cell_type": "code",
   "execution_count": 9,
   "metadata": {},
   "outputs": [
    {
     "name": "stdout",
     "output_type": "stream",
     "text": [
      "2\n"
     ]
    }
   ],
   "source": [
    "# Print the number of dimensions of tensor2\n",
    "print(tensor1.dim())"
   ]
  }
 ],
 "metadata": {
  "kernelspec": {
   "display_name": "Python 3",
   "language": "python",
   "name": "python3"
  },
  "language_info": {
   "codemirror_mode": {
    "name": "ipython",
    "version": 3
   },
   "file_extension": ".py",
   "mimetype": "text/x-python",
   "name": "python",
   "nbconvert_exporter": "python",
   "pygments_lexer": "ipython3",
   "version": "3.11.7"
  }
 },
 "nbformat": 4,
 "nbformat_minor": 2
}

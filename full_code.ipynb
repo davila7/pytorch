{
 "cells": [
  {
   "cell_type": "code",
   "execution_count": 1,
   "metadata": {},
   "outputs": [
    {
     "name": "stdout",
     "output_type": "stream",
     "text": [
      "tensor([[1, 2, 3],\n",
      "        [1, 5, 6]])\n"
     ]
    }
   ],
   "source": [
    "import torch\n",
    "\n",
    "array = [[1,2,3], [1,5,6]]\n",
    "tensor1 = torch.tensor(array)\n",
    "\n",
    "print(tensor1)"
   ]
  },
  {
   "cell_type": "code",
   "execution_count": 2,
   "metadata": {},
   "outputs": [
    {
     "data": {
      "text/plain": [
       "device(type='cpu')"
      ]
     },
     "execution_count": 2,
     "metadata": {},
     "output_type": "execute_result"
    }
   ],
   "source": [
    "tensor1.device"
   ]
  },
  {
   "cell_type": "code",
   "execution_count": 3,
   "metadata": {},
   "outputs": [
    {
     "name": "stdout",
     "output_type": "stream",
     "text": [
      "usando cpu\n"
     ]
    }
   ],
   "source": [
    "device = (\n",
    "    \"cuda\" if torch.cuda.is_available()\n",
    "    else \"cpu\"\n",
    ")\n",
    "print(f\"using {device}\")"
   ]
  },
  {
   "cell_type": "code",
   "execution_count": 4,
   "metadata": {},
   "outputs": [
    {
     "name": "stdout",
     "output_type": "stream",
     "text": [
      "cpu\n"
     ]
    }
   ],
   "source": [
    "tensor1 = tensor1.to(device)\n",
    "print(tensor1.device)"
   ]
  },
  {
   "cell_type": "code",
   "execution_count": 5,
   "metadata": {},
   "outputs": [
    {
     "data": {
      "text/plain": [
       "torch.Size([2, 3])"
      ]
     },
     "execution_count": 5,
     "metadata": {},
     "output_type": "execute_result"
    }
   ],
   "source": [
    "tensor1.shape"
   ]
  },
  {
   "cell_type": "code",
   "execution_count": 7,
   "metadata": {},
   "outputs": [
    {
     "name": "stdout",
     "output_type": "stream",
     "text": [
      "Downloading http://yann.lecun.com/exdb/mnist/train-images-idx3-ubyte.gz\n",
      "Downloading http://yann.lecun.com/exdb/mnist/train-images-idx3-ubyte.gz to data/MNIST/raw/train-images-idx3-ubyte.gz\n"
     ]
    },
    {
     "name": "stderr",
     "output_type": "stream",
     "text": [
      "100%|██████████| 9912422/9912422 [00:00<00:00, 19276027.17it/s]\n"
     ]
    },
    {
     "name": "stdout",
     "output_type": "stream",
     "text": [
      "Extracting data/MNIST/raw/train-images-idx3-ubyte.gz to data/MNIST/raw\n",
      "\n",
      "Downloading http://yann.lecun.com/exdb/mnist/train-labels-idx1-ubyte.gz\n",
      "Downloading http://yann.lecun.com/exdb/mnist/train-labels-idx1-ubyte.gz to data/MNIST/raw/train-labels-idx1-ubyte.gz\n"
     ]
    },
    {
     "name": "stderr",
     "output_type": "stream",
     "text": [
      "100%|██████████| 28881/28881 [00:00<00:00, 13266421.40it/s]"
     ]
    },
    {
     "name": "stdout",
     "output_type": "stream",
     "text": [
      "Extracting data/MNIST/raw/train-labels-idx1-ubyte.gz to data/MNIST/raw\n",
      "\n",
      "Downloading http://yann.lecun.com/exdb/mnist/t10k-images-idx3-ubyte.gz\n"
     ]
    },
    {
     "name": "stderr",
     "output_type": "stream",
     "text": [
      "\n"
     ]
    },
    {
     "name": "stdout",
     "output_type": "stream",
     "text": [
      "Downloading http://yann.lecun.com/exdb/mnist/t10k-images-idx3-ubyte.gz to data/MNIST/raw/t10k-images-idx3-ubyte.gz\n"
     ]
    },
    {
     "name": "stderr",
     "output_type": "stream",
     "text": [
      "100%|██████████| 1648877/1648877 [00:00<00:00, 14916704.55it/s]\n"
     ]
    },
    {
     "name": "stdout",
     "output_type": "stream",
     "text": [
      "Extracting data/MNIST/raw/t10k-images-idx3-ubyte.gz to data/MNIST/raw\n",
      "\n",
      "Downloading http://yann.lecun.com/exdb/mnist/t10k-labels-idx1-ubyte.gz\n",
      "Downloading http://yann.lecun.com/exdb/mnist/t10k-labels-idx1-ubyte.gz to data/MNIST/raw/t10k-labels-idx1-ubyte.gz\n"
     ]
    },
    {
     "name": "stderr",
     "output_type": "stream",
     "text": [
      "100%|██████████| 4542/4542 [00:00<00:00, 9054433.83it/s]"
     ]
    },
    {
     "name": "stdout",
     "output_type": "stream",
     "text": [
      "Extracting data/MNIST/raw/t10k-labels-idx1-ubyte.gz to data/MNIST/raw\n",
      "\n"
     ]
    },
    {
     "name": "stderr",
     "output_type": "stream",
     "text": [
      "\n"
     ]
    }
   ],
   "source": [
    "from torchvision import datasets\n",
    "from torchvision.transforms import ToTensor\n",
    "import matplotlib.pyplot as plt\n",
    "\n",
    "data_mnist = datasets.MNIST(\n",
    "    root= \"data\", # Folder\n",
    "    train= True, # True: 60.000 images\n",
    "    download= True,\n",
    "    transform=ToTensor() # to tensors\n",
    ")"
   ]
  },
  {
   "cell_type": "code",
   "execution_count": 8,
   "metadata": {},
   "outputs": [
    {
     "data": {
      "text/plain": [
       "Dataset MNIST\n",
       "    Number of datapoints: 60000\n",
       "    Root location: data\n",
       "    Split: Train\n",
       "    StandardTransform\n",
       "Transform: ToTensor()"
      ]
     },
     "execution_count": 8,
     "metadata": {},
     "output_type": "execute_result"
    }
   ],
   "source": [
    "data_mnist"
   ]
  },
  {
   "cell_type": "code",
   "execution_count": 9,
   "metadata": {},
   "outputs": [
    {
     "data": {
      "image/png": "[encoded data removed]",
      "text/plain": [
       "<Figure size 800x800 with 9 Axes>"
      ]
     },
     "metadata": {},
     "output_type": "display_data"
    }
   ],
   "source": [
    "figure = plt.figure(figsize=(8,8))\n",
    "rows, columns = 3, 3\n",
    "\n",
    "for i in range(1, columns * rows + 1):\n",
    "    sample_idx = torch.randint(len(data_mnist), size=(1,)).item()\n",
    "\n",
    "    img, label = data_mnist[sample_idx]\n",
    "\n",
    "    figure.add_subplot(rows, columns, i)\n",
    "    plt.title(str(label))\n",
    "    plt.axis(\"off\")\n",
    "    plt.imshow(img.squeeze(), cmap=\"gray\")\n",
    "\n",
    "plt.show()"
   ]
  },
  {
   "cell_type": "code",
   "execution_count": 10,
   "metadata": {},
   "outputs": [
    {
     "name": "stdout",
     "output_type": "stream",
     "text": [
      "Data type: <class 'torch.Tensor'>\n",
      "Size: torch.Size([1, 28, 28])\n",
      "Min and Max img: 0.0, 1.0\n",
      "Category Type: <class 'int'>\n"
     ]
    }
   ],
   "source": [
    "print(f'Data type: {type(img)}')\n",
    "print(f'Size: {img.shape}')\n",
    "print(f'Min and Max img: {img.min()}, {img.max()}')\n",
    "print(f'Category Type: {type(label)}')"
   ]
  },
  {
   "cell_type": "code",
   "execution_count": 11,
   "metadata": {},
   "outputs": [
    {
     "data": {
      "text/plain": [
       "<torch._C.Generator at 0x115d47bd0>"
      ]
     },
     "execution_count": 11,
     "metadata": {},
     "output_type": "execute_result"
    }
   ],
   "source": [
    "torch.manual_seed(123)"
   ]
  },
  {
   "cell_type": "code",
   "execution_count": 12,
   "metadata": {},
   "outputs": [
    {
     "name": "stdout",
     "output_type": "stream",
     "text": [
      "Train size: 48000\n",
      "Val size: 6000\n",
      "test size: 6000\n",
      "Train type: <class 'torch.utils.data.dataset.Subset'>\n",
      "Val type: <class 'torch.utils.data.dataset.Subset'>\n",
      "Test type: <class 'torch.utils.data.dataset.Subset'>\n"
     ]
    }
   ],
   "source": [
    "train, val, test = torch.utils.data.random_split(\n",
    "    data_mnist, [0.8, 0.1, 0.1]\n",
    ")\n",
    "\n",
    "print(f\"Train size: {len(train)}\")\n",
    "print(f\"Val size: {len(val)}\")\n",
    "print(f\"test size: {len(test)}\")\n",
    "\n",
    "print(f\"Train type: {type(train)}\")\n",
    "print(f\"Val type: {type(val)}\")\n",
    "print(f\"Test type: {type(train)}\")"
   ]
  },
  {
   "cell_type": "code",
   "execution_count": 13,
   "metadata": {},
   "outputs": [],
   "source": [
    "from torch import nn\n",
    "\n",
    "class NeuronalNetwork(nn.Module):\n",
    "    def __init__(self):\n",
    "        super().__init__()\n",
    "\n",
    "        self.flatten = nn.Flatten() # image flatten\n",
    "        self.net = nn.Sequential(\n",
    "            nn.Linear(28*28, 15), # init step, hidden step\n",
    "            nn.ReLU(), # ReLU function activation\n",
    "            nn.Linear(15,10), # output step, no function activation \n",
    "        )\n",
    "\n",
    "    def forward(self, x):\n",
    "        x = self.flatten(x) # data flatten\n",
    "        logits = self.net(x) # prediction\n",
    "\n",
    "        return logits\n"
   ]
  },
  {
   "cell_type": "code",
   "execution_count": 14,
   "metadata": {},
   "outputs": [
    {
     "name": "stdout",
     "output_type": "stream",
     "text": [
      "NeuronalNetwork(\n",
      "  (flatten): Flatten(start_dim=1, end_dim=-1)\n",
      "  (net): Sequential(\n",
      "    (0): Linear(in_features=784, out_features=15, bias=True)\n",
      "    (1): ReLU()\n",
      "    (2): Linear(in_features=15, out_features=10, bias=True)\n",
      "  )\n",
      ")\n"
     ]
    }
   ],
   "source": [
    "model = NeuronalNetwork().to(device)\n",
    "print(model)"
   ]
  },
  {
   "cell_type": "code",
   "execution_count": 16,
   "metadata": {},
   "outputs": [
    {
     "name": "stdout",
     "output_type": "stream",
     "text": [
      "Total parameters:  11935\n"
     ]
    }
   ],
   "source": [
    "total_params = sum(p.numel() for p in model.parameters())\n",
    "print(\"Total parameters: \", total_params)"
   ]
  },
  {
   "cell_type": "code",
   "execution_count": 17,
   "metadata": {},
   "outputs": [
    {
     "name": "stdout",
     "output_type": "stream",
     "text": [
      "<class 'torch.Tensor'>\n",
      "<class 'int'>\n"
     ]
    }
   ],
   "source": [
    "img, lbl = train[200]\n",
    "\n",
    "print(type(img))\n",
    "print(type(lbl))"
   ]
  },
  {
   "cell_type": "code",
   "execution_count": 18,
   "metadata": {},
   "outputs": [
    {
     "name": "stdout",
     "output_type": "stream",
     "text": [
      "<class 'torch.Tensor'>\n"
     ]
    }
   ],
   "source": [
    "lbl = torch.tensor(lbl).reshape(1)\n",
    "print(type(lbl))"
   ]
  },
  {
   "cell_type": "code",
   "execution_count": 19,
   "metadata": {},
   "outputs": [],
   "source": [
    "img, lbl = img.to(device), lbl.to(device)"
   ]
  },
  {
   "cell_type": "code",
   "execution_count": 20,
   "metadata": {},
   "outputs": [
    {
     "name": "stdout",
     "output_type": "stream",
     "text": [
      "tensor([[ 0.1762, -0.0300,  0.1198, -0.0336, -0.0994,  0.0021, -0.1259,  0.0016,\n",
      "          0.0412,  0.1990]], grad_fn=<AddmmBackward0>)\n"
     ]
    }
   ],
   "source": [
    "logits = model(img)\n",
    "print(logits)"
   ]
  },
  {
   "cell_type": "code",
   "execution_count": 23,
   "metadata": {},
   "outputs": [
    {
     "name": "stdout",
     "output_type": "stream",
     "text": [
      "Logits: tensor([[ 0.1762, -0.0300,  0.1198, -0.0336, -0.0994,  0.0021, -0.1259,  0.0016,\n",
      "          0.0412,  0.1990]], grad_fn=<AddmmBackward0>)\n",
      "Prediction: 9\n",
      "Category: 6\n"
     ]
    },
    {
     "data": {
      "image/png": "[encoded data removed]",
      "text/plain": [
       "<Figure size 640x480 with 1 Axes>"
      ]
     },
     "metadata": {},
     "output_type": "display_data"
    }
   ],
   "source": [
    "y_pred = logits.argmax(1)\n",
    "\n",
    "plt.imshow(img.cpu().squeeze(), cmap=\"gray\")\n",
    "\n",
    "print(f\"Logits: {logits}\")\n",
    "print(f\"Prediction: {y_pred[0]}\")\n",
    "print(f\"Category: {lbl[0]}\")"
   ]
  },
  {
   "cell_type": "code",
   "execution_count": 24,
   "metadata": {},
   "outputs": [],
   "source": [
    "fn_lost = nn.CrossEntropyLoss()\n",
    "optimizer = torch.optim.SGD(model.parameters(), lr=0.2)"
   ]
  },
  {
   "cell_type": "code",
   "execution_count": 25,
   "metadata": {},
   "outputs": [
    {
     "name": "stdout",
     "output_type": "stream",
     "text": [
      "tensor(2.4591, grad_fn=<NllLossBackward0>)\n"
     ]
    }
   ],
   "source": [
    "loss = fn_lost(logits, lbl)\n",
    "print(loss) # near to 0"
   ]
  },
  {
   "cell_type": "code",
   "execution_count": 26,
   "metadata": {},
   "outputs": [],
   "source": [
    "loss.backward()"
   ]
  },
  {
   "cell_type": "code",
   "execution_count": 28,
   "metadata": {},
   "outputs": [],
   "source": [
    "optimizer.step() # update parameters\n",
    "optimizer.zero_grad() # clear grad"
   ]
  },
  {
   "cell_type": "markdown",
   "metadata": {},
   "source": [
    "# TRAINING"
   ]
  },
  {
   "cell_type": "code",
   "execution_count": 30,
   "metadata": {},
   "outputs": [],
   "source": [
    "from torch.utils.data import DataLoader\n",
    "\n",
    "BATCH_SIZE = 1000\n",
    "\n",
    "# training data\n",
    "train_loader = DataLoader(\n",
    "    dataset=train,\n",
    "    batch_size=BATCH_SIZE,\n",
    "    shuffle=True # random mix\n",
    ")\n",
    "\n",
    "# validation data\n",
    "val_loader = DataLoader(\n",
    "    dataset=val,\n",
    "    batch_size=BATCH_SIZE,\n",
    "    shuffle=False\n",
    ")\n"
   ]
  },
  {
   "cell_type": "code",
   "execution_count": 31,
   "metadata": {},
   "outputs": [],
   "source": [
    "LEARNING_RATE = 0.1\n",
    "EPOCH = 10 # iteration"
   ]
  },
  {
   "cell_type": "code",
   "execution_count": 32,
   "metadata": {},
   "outputs": [],
   "source": [
    "fn_lost = nn.CrossEntropyLoss()\n",
    "optimizer = torch.optim.SGD(model.parameters(), lr=LEARNING_RATE)"
   ]
  },
  {
   "cell_type": "code",
   "execution_count": 33,
   "metadata": {},
   "outputs": [],
   "source": [
    "def train_loop(dataloader, model, loss_fn, optimizer):\n",
    "\n",
    "    train_size = len(dataloader.dataset)\n",
    "    nbatch = len(dataloader)\n",
    "\n",
    "    model.train()\n",
    "\n",
    "    lost_train, accuracy = 0, 0 # lost down, accuracy up to 100%\n",
    "\n",
    "    for nlote, (X, y) in enumerate(dataloader):\n",
    "        \n",
    "        X, y = X.to(device), y.to(device)\n",
    "\n",
    "        logits = model(X)\n",
    "\n",
    "        loss = loss_fn(logits, y)\n",
    "        loss.backward()\n",
    "        optimizer.step()\n",
    "        optimizer.zero_grad()\n",
    "\n",
    "        lost_train += loss.item()\n",
    "        accuracy += (logits.argmax(1)==y).type(torch.float).sum().item()\n",
    "\n",
    "        if nlote % 10 == 0:\n",
    "\n",
    "            ndatos = nbatch*BATCH_SIZE\n",
    "\n",
    "            print(f\"Loss: {loss.item():>7f} [{ndatos:>5d}/{train_size:>5d}]\")\n",
    "\n",
    "    lost_train /= nbatch\n",
    "    accuracy /= train_size\n",
    "\n",
    "    print(f\"Average accuracy:\")\n",
    "    print(f\"Training: {(100*accuracy):>0.1f}% / {lost_train:>8f}\")"
   ]
  },
  {
   "cell_type": "code",
   "execution_count": 34,
   "metadata": {},
   "outputs": [],
   "source": [
    "def val_loop(dataloader, model, loss_fn):\n",
    "\n",
    "    val_size = len(dataloader.dataset)\n",
    "    nbatch = len(dataloader)\n",
    "\n",
    "    model.eval()\n",
    "\n",
    "    lost_val, accuracy = 0, 0\n",
    "\n",
    "    with torch.no_grad():\n",
    "        for X, y in dataloader:\n",
    "\n",
    "            X, y = X.to(device), y.to(device)\n",
    "\n",
    "            logits = model(X)\n",
    "\n",
    "            lost_val += loss_fn(logits, y).item()\n",
    "            accuracy += (logits.argmax(1) == y).type(torch.float).sum().item()\n",
    "\n",
    "    lost_val /= nbatch\n",
    "    accuracy /= val_size\n",
    "\n",
    "    print(f\"Validation: {(100*accuracy):>0.1f}% / {lost_val:>8f} \\n\")"
   ]
  },
  {
   "cell_type": "code",
   "execution_count": 35,
   "metadata": {},
   "outputs": [
    {
     "name": "stdout",
     "output_type": "stream",
     "text": [
      "Iteration: 1/10\n",
      "--------------\n",
      "Loss: 2.460051 [48000/48000]\n",
      "Loss: 2.174052 [48000/48000]\n",
      "Loss: 1.985819 [48000/48000]\n",
      "Loss: 1.811764 [48000/48000]\n",
      "Loss: 1.597012 [48000/48000]\n",
      "Average accuracy:\n",
      "Training: 41.7% / 1.923168\n",
      "Validation: 69.0% / 1.416131 \n",
      "\n",
      "Iteration: 2/10\n",
      "--------------\n",
      "Loss: 1.395258 [48000/48000]\n",
      "Loss: 1.185633 [48000/48000]\n",
      "Loss: 1.008581 [48000/48000]\n",
      "Loss: 0.908601 [48000/48000]\n",
      "Loss: 0.766481 [48000/48000]\n",
      "Average accuracy:\n",
      "Training: 78.2% / 1.002708\n",
      "Validation: 82.4% / 0.746401 \n",
      "\n",
      "Iteration: 3/10\n",
      "--------------\n",
      "Loss: 0.718768 [48000/48000]\n",
      "Loss: 0.684749 [48000/48000]\n",
      "Loss: 0.651918 [48000/48000]\n",
      "Loss: 0.565519 [48000/48000]\n",
      "Loss: 0.558669 [48000/48000]\n",
      "Average accuracy:\n",
      "Training: 84.4% / 0.625960\n",
      "Validation: 85.0% / 0.562420 \n",
      "\n",
      "Iteration: 4/10\n",
      "--------------\n",
      "Loss: 0.547840 [48000/48000]\n",
      "Loss: 0.489364 [48000/48000]\n",
      "Loss: 0.480958 [48000/48000]\n",
      "Loss: 0.498981 [48000/48000]\n",
      "Loss: 0.489462 [48000/48000]\n",
      "Average accuracy:\n",
      "Training: 86.8% / 0.503834\n",
      "Validation: 86.7% / 0.484984 \n",
      "\n",
      "Iteration: 5/10\n",
      "--------------\n",
      "Loss: 0.453145 [48000/48000]\n",
      "Loss: 0.454201 [48000/48000]\n",
      "Loss: 0.499199 [48000/48000]\n",
      "Loss: 0.408424 [48000/48000]\n",
      "Loss: 0.409300 [48000/48000]\n",
      "Average accuracy:\n",
      "Training: 88.1% / 0.445738\n",
      "Validation: 87.8% / 0.443204 \n",
      "\n",
      "Iteration: 6/10\n",
      "--------------\n",
      "Loss: 0.406975 [48000/48000]\n",
      "Loss: 0.418743 [48000/48000]\n",
      "Loss: 0.431064 [48000/48000]\n",
      "Loss: 0.395677 [48000/48000]\n",
      "Loss: 0.417188 [48000/48000]\n",
      "Average accuracy:\n",
      "Training: 88.8% / 0.411201\n",
      "Validation: 88.4% / 0.414441 \n",
      "\n",
      "Iteration: 7/10\n",
      "--------------\n",
      "Loss: 0.430714 [48000/48000]\n",
      "Loss: 0.384705 [48000/48000]\n",
      "Loss: 0.375688 [48000/48000]\n",
      "Loss: 0.401736 [48000/48000]\n",
      "Loss: 0.411538 [48000/48000]\n",
      "Average accuracy:\n",
      "Training: 89.3% / 0.388046\n",
      "Validation: 89.0% / 0.395590 \n",
      "\n",
      "Iteration: 8/10\n",
      "--------------\n",
      "Loss: 0.396894 [48000/48000]\n",
      "Loss: 0.364363 [48000/48000]\n",
      "Loss: 0.389932 [48000/48000]\n",
      "Loss: 0.354712 [48000/48000]\n",
      "Loss: 0.399932 [48000/48000]\n",
      "Average accuracy:\n",
      "Training: 89.7% / 0.371265\n",
      "Validation: 89.2% / 0.382698 \n",
      "\n",
      "Iteration: 9/10\n",
      "--------------\n",
      "Loss: 0.341632 [48000/48000]\n",
      "Loss: 0.369254 [48000/48000]\n",
      "Loss: 0.368146 [48000/48000]\n",
      "Loss: 0.355720 [48000/48000]\n",
      "Loss: 0.334882 [48000/48000]\n",
      "Average accuracy:\n",
      "Training: 90.1% / 0.358136\n",
      "Validation: 89.4% / 0.372503 \n",
      "\n",
      "Iteration: 10/10\n",
      "--------------\n",
      "Loss: 0.344733 [48000/48000]\n",
      "Loss: 0.371458 [48000/48000]\n",
      "Loss: 0.382800 [48000/48000]\n",
      "Loss: 0.326597 [48000/48000]\n",
      "Loss: 0.258247 [48000/48000]\n",
      "Average accuracy:\n",
      "Training: 90.3% / 0.347566\n",
      "Validation: 89.7% / 0.361681 \n",
      "\n",
      "The model was training!\n"
     ]
    }
   ],
   "source": [
    "for t in range(EPOCH):\n",
    "    print(f\"Iteration: {t+1}/{EPOCH}\\n--------------\")\n",
    "\n",
    "    train_loop(train_loader, model, fn_lost, optimizer)\n",
    "    val_loop(val_loader, model, fn_lost)\n",
    "\n",
    "print(\"The model was training!\")"
   ]
  },
  {
   "cell_type": "code",
   "execution_count": 36,
   "metadata": {},
   "outputs": [],
   "source": [
    "def predict(model, img):\n",
    "    \n",
    "    logits = model(img)\n",
    "    y_pred = logits.argmax(1).item()\n",
    "\n",
    "    plt.imshow(img.cpu().squeeze(), cmap=\"gray\")\n",
    "    plt.title(f\"Category: {y_pred}\")"
   ]
  },
  {
   "cell_type": "code",
   "execution_count": 39,
   "metadata": {},
   "outputs": [
    {
     "data": {
      "image/png": "[encoded data removed]",
      "text/plain": [
       "<Figure size 640x480 with 1 Axes>"
      ]
     },
     "metadata": {},
     "output_type": "display_data"
    }
   ],
   "source": [
    "img, lbl = test[1234]\n",
    "\n",
    "predict(model, img)"
   ]
  }
 ],
 "metadata": {
  "kernelspec": {
   "display_name": "Python 3",
   "language": "python",
   "name": "python3"
  },
  "language_info": {
   "codemirror_mode": {
    "name": "ipython",
    "version": 3
   },
   "file_extension": ".py",
   "mimetype": "text/x-python",
   "name": "python",
   "nbconvert_exporter": "python",
   "pygments_lexer": "ipython3",
   "version": "3.11.7"
  }
 },
 "nbformat": 4,
 "nbformat_minor": 2
}

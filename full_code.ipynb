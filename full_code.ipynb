{
 "cells": [
  {
   "cell_type": "code",
   "execution_count": null,
   "metadata": {},
   "outputs": [],
   "source": [
    "import torch\n",
    "device = (\n",
    "    \"cuda\" if torch.cuda.is_available()\n",
    "    else \"cpu\"\n",
    ")\n",
    "print(f\"using {device}\")"
   ]
  },
  {
   "cell_type": "code",
   "execution_count": null,
   "metadata": {},
   "outputs": [],
   "source": [
    "from torchvision import datasets\n",
    "from torchvision.transforms import ToTensor\n",
    "import matplotlib.pyplot as plt\n",
    "\n",
    "data_mnist = datasets.MNIST(\n",
    "    root= \"data\", # Folder\n",
    "    train= True, # True: 60.000 images\n",
    "    download= True,\n",
    "    transform=ToTensor() # to tensors\n",
    ")"
   ]
  },
  {
   "cell_type": "code",
   "execution_count": null,
   "metadata": {},
   "outputs": [],
   "source": [
    "figure = plt.figure(figsize=(8,8))\n",
    "rows, columns = 3, 3\n",
    "\n",
    "for i in range(1, columns * rows + 1):\n",
    "    sample_idx = torch.randint(len(data_mnist), size=(1,)).item()\n",
    "\n",
    "    img, label = data_mnist[sample_idx]\n",
    "\n",
    "    figure.add_subplot(rows, columns, i)\n",
    "    plt.title(str(label))\n",
    "    plt.axis(\"off\")\n",
    "    plt.imshow(img.squeeze(), cmap=\"gray\")\n",
    "\n",
    "plt.show()"
   ]
  },
  {
   "cell_type": "code",
   "execution_count": null,
   "metadata": {},
   "outputs": [],
   "source": [
    "train, val, test = torch.utils.data.random_split(\n",
    "    data_mnist, [0.8, 0.1, 0.1]\n",
    ")\n",
    "\n",
    "print(f\"Train size: {len(train)}\")\n",
    "print(f\"Val size: {len(val)}\")\n",
    "print(f\"test size: {len(test)}\")"
   ]
  },
  {
   "cell_type": "code",
   "execution_count": null,
   "metadata": {},
   "outputs": [],
   "source": [
    "from torch import nn\n",
    "\n",
    "class NeuronalNetwork(nn.Module):\n",
    "    def __init__(self):\n",
    "        super().__init__()\n",
    "\n",
    "        self.flatten = nn.Flatten() # image flatten\n",
    "        self.net = nn.Sequential(\n",
    "            nn.Linear(28*28, 15), # init step, hidden step\n",
    "            nn.ReLU(), # ReLU function activation\n",
    "            nn.Linear(15,10), # output step, no function activation \n",
    "        )\n",
    "\n",
    "    def forward(self, x):\n",
    "        x = self.flatten(x) # data flatten\n",
    "        logits = self.net(x) # prediction\n",
    "\n",
    "        return logits\n"
   ]
  },
  {
   "cell_type": "code",
   "execution_count": null,
   "metadata": {},
   "outputs": [],
   "source": [
    "model = NeuronalNetwork().to(device)"
   ]
  },
  {
   "cell_type": "code",
   "execution_count": null,
   "metadata": {},
   "outputs": [],
   "source": [
    "total_params = sum(p.numel() for p in model.parameters())"
   ]
  },
  {
   "cell_type": "code",
   "execution_count": null,
   "metadata": {},
   "outputs": [],
   "source": [
    "img, lbl = train[200]"
   ]
  },
  {
   "cell_type": "code",
   "execution_count": null,
   "metadata": {},
   "outputs": [],
   "source": [
    "lbl = torch.tensor(lbl).reshape(1)\n"
   ]
  },
  {
   "cell_type": "code",
   "execution_count": null,
   "metadata": {},
   "outputs": [],
   "source": [
    "img, lbl = img.to(device), lbl.to(device)"
   ]
  },
  {
   "cell_type": "code",
   "execution_count": null,
   "metadata": {},
   "outputs": [],
   "source": [
    "logits = model(img)\n",
    "print(logits)"
   ]
  },
  {
   "cell_type": "code",
   "execution_count": null,
   "metadata": {},
   "outputs": [],
   "source": [
    "y_pred = logits.argmax(1)\n",
    "\n",
    "plt.imshow(img.cpu().squeeze(), cmap=\"gray\")\n",
    "\n",
    "print(f\"Logits: {logits}\")\n",
    "print(f\"Prediction: {y_pred[0]}\")\n",
    "print(f\"Category: {lbl[0]}\")"
   ]
  },
  {
   "cell_type": "code",
   "execution_count": null,
   "metadata": {},
   "outputs": [],
   "source": [
    "fn_lost = nn.CrossEntropyLoss()\n",
    "optimizer = torch.optim.SGD(model.parameters(), lr=0.2)"
   ]
  },
  {
   "cell_type": "code",
   "execution_count": null,
   "metadata": {},
   "outputs": [],
   "source": [
    "loss = fn_lost(logits, lbl)\n",
    "print(loss) # near to 0"
   ]
  },
  {
   "cell_type": "code",
   "execution_count": null,
   "metadata": {},
   "outputs": [],
   "source": [
    "loss.backward()"
   ]
  },
  {
   "cell_type": "code",
   "execution_count": null,
   "metadata": {},
   "outputs": [],
   "source": [
    "optimizer.step() # update parameters\n",
    "optimizer.zero_grad() # clear grad"
   ]
  },
  {
   "cell_type": "markdown",
   "metadata": {},
   "source": [
    "# TRAINING"
   ]
  },
  {
   "cell_type": "code",
   "execution_count": null,
   "metadata": {},
   "outputs": [],
   "source": [
    "from torch.utils.data import DataLoader\n",
    "\n",
    "BATCH_SIZE = 1000\n",
    "\n",
    "# training data\n",
    "train_loader = DataLoader(\n",
    "    dataset=train,\n",
    "    batch_size=BATCH_SIZE,\n",
    "    shuffle=True # random mix\n",
    ")\n",
    "\n",
    "# validation data\n",
    "val_loader = DataLoader(\n",
    "    dataset=val,\n",
    "    batch_size=BATCH_SIZE,\n",
    "    shuffle=False\n",
    ")\n"
   ]
  },
  {
   "cell_type": "code",
   "execution_count": null,
   "metadata": {},
   "outputs": [],
   "source": [
    "LEARNING_RATE = 0.1\n",
    "EPOCH = 10 # iteration"
   ]
  },
  {
   "cell_type": "code",
   "execution_count": null,
   "metadata": {},
   "outputs": [],
   "source": [
    "fn_lost = nn.CrossEntropyLoss()\n",
    "optimizer = torch.optim.SGD(model.parameters(), lr=LEARNING_RATE)"
   ]
  },
  {
   "cell_type": "code",
   "execution_count": null,
   "metadata": {},
   "outputs": [],
   "source": [
    "def train_loop(dataloader, model, loss_fn, optimizer):\n",
    "\n",
    "    train_size = len(dataloader.dataset)\n",
    "    nbatch = len(dataloader)\n",
    "\n",
    "    model.train()\n",
    "\n",
    "    lost_train, accuracy = 0, 0 # lost down, accuracy up to 100%\n",
    "\n",
    "    for nlote, (X, y) in enumerate(dataloader):\n",
    "        \n",
    "        X, y = X.to(device), y.to(device)\n",
    "\n",
    "        logits = model(X)\n",
    "\n",
    "        loss = loss_fn(logits, y)\n",
    "        loss.backward()\n",
    "        optimizer.step()\n",
    "        optimizer.zero_grad()\n",
    "\n",
    "        lost_train += loss.item()\n",
    "        accuracy += (logits.argmax(1)==y).type(torch.float).sum().item()\n",
    "\n",
    "        if nlote % 10 == 0:\n",
    "\n",
    "            ndatos = nbatch*BATCH_SIZE\n",
    "\n",
    "            print(f\"Loss: {loss.item():>7f} [{ndatos:>5d}/{train_size:>5d}]\")\n",
    "\n",
    "    lost_train /= nbatch\n",
    "    accuracy /= train_size\n",
    "\n",
    "    print(f\"Average accuracy:\")\n",
    "    print(f\"Training: {(100*accuracy):>0.1f}% / {lost_train:>8f}\")"
   ]
  },
  {
   "cell_type": "code",
   "execution_count": null,
   "metadata": {},
   "outputs": [],
   "source": [
    "def val_loop(dataloader, model, loss_fn):\n",
    "\n",
    "    val_size = len(dataloader.dataset)\n",
    "    nbatch = len(dataloader)\n",
    "\n",
    "    model.eval()\n",
    "\n",
    "    lost_val, accuracy = 0, 0\n",
    "\n",
    "    with torch.no_grad():\n",
    "        for X, y in dataloader:\n",
    "\n",
    "            X, y = X.to(device), y.to(device)\n",
    "\n",
    "            logits = model(X)\n",
    "\n",
    "            lost_val += loss_fn(logits, y).item()\n",
    "            accuracy += (logits.argmax(1) == y).type(torch.float).sum().item()\n",
    "\n",
    "    lost_val /= nbatch\n",
    "    accuracy /= val_size\n",
    "\n",
    "    print(f\"Validation: {(100*accuracy):>0.1f}% / {lost_val:>8f} \\n\")"
   ]
  },
  {
   "cell_type": "code",
   "execution_count": null,
   "metadata": {},
   "outputs": [],
   "source": [
    "for t in range(EPOCH):\n",
    "    print(f\"Iteration: {t+1}/{EPOCH}\\n--------------\")\n",
    "\n",
    "    train_loop(train_loader, model, fn_lost, optimizer)\n",
    "    val_loop(val_loader, model, fn_lost)\n",
    "\n",
    "print(\"The model was training!\")"
   ]
  },
  {
   "cell_type": "code",
   "execution_count": null,
   "metadata": {},
   "outputs": [],
   "source": [
    "def predict(model, img):\n",
    "    \n",
    "    logits = model(img)\n",
    "    y_pred = logits.argmax(1).item()\n",
    "\n",
    "    plt.imshow(img.cpu().squeeze(), cmap=\"gray\")\n",
    "    plt.title(f\"Category: {y_pred}\")"
   ]
  },
  {
   "cell_type": "code",
   "execution_count": null,
   "metadata": {},
   "outputs": [],
   "source": [
    "img, lbl = test[1234]\n",
    "\n",
    "predict(model, img)"
   ]
  }
 ],
 "metadata": {
  "kernelspec": {
   "display_name": "Python 3",
   "language": "python",
   "name": "python3"
  },
  "language_info": {
   "codemirror_mode": {
    "name": "ipython",
    "version": 3
   },
   "file_extension": ".py",
   "mimetype": "text/x-python",
   "name": "python",
   "nbconvert_exporter": "python",
   "pygments_lexer": "ipython3",
   "version": "3.10.13"
  }
 },
 "nbformat": 4,
 "nbformat_minor": 2
}
